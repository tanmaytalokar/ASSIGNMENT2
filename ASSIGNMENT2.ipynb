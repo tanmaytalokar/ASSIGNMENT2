{
  "nbformat": 4,
  "nbformat_minor": 0,
  "metadata": {
    "colab": {
      "provenance": []
    },
    "kernelspec": {
      "name": "python3",
      "display_name": "Python 3"
    },
    "language_info": {
      "name": "python"
    }
  },
  "cells": [
    {
      "cell_type": "markdown",
      "source": [
        "**Assignment 2 : Data Types and Structures**"
      ],
      "metadata": {
        "id": "vD2Tgyrh1F4p"
      }
    },
    {
      "cell_type": "markdown",
      "source": [
        "**Theory Questions**"
      ],
      "metadata": {
        "id": "DfFLTUc9gIrx"
      }
    },
    {
      "cell_type": "markdown",
      "source": [
        "**1. What are data structures, and why are they important?**\n",
        "\n",
        "1. Data structures are specially role in organising, managing and storing data. They define the relation between data, how data can be accessed and can peform operation on them.\n",
        "2.  Data structures are important because they anabled the efficient strorage of data. It have optimized algorithms. data structure  allow system to scale better as the amount of data grows. By scalability can improve the performane. data re reusable and maintainable.\n",
        "3. Data structures are important in Macing Learning, Gaming, web development and Many more.\n",
        "\n",
        "  \n",
        "\n",
        "\n",
        "\n",
        "\n",
        "\n",
        "\n",
        "\n"
      ],
      "metadata": {
        "id": "mvGn7-0lgRgj"
      }
    },
    {
      "cell_type": "markdown",
      "source": [
        "**2. Explain the difference between mutable and immutable data types with examples.**\n",
        "\n",
        " Mutability refers to object value can be modified after it can be created. Weather Immitability refers to object value cannot be modified after it can be created.\n",
        " 1. Mutable Data Types : Objects whose value can be changed after creation without changing their identity.\n",
        "    In Mutability the changes are made in place.\n",
        "    \n",
        "    Example : A. LIST B. DICTIONARIES c. SET\n",
        "    \n",
        "    Code : my_list = [1, 2,3]                                           \n",
        "           my_list[1] = 42  \n",
        "           print(my_list)  \n",
        "           Output: [1, 42, 3]\n",
        "\n",
        "  \n",
        "    \n",
        "            \n",
        "  2. Immutable Data Types : Objects whose value cannot be changed after creation. Any attempt to modify them results in the creation of a new object.\n",
        "  A new object is created for changes.\n",
        "  \n",
        "  Example : A. Tuples\n",
        "            B. Strings\n",
        "            C. Integers\n",
        "            D. Floats\n",
        "           Code : my_string = \"hello\"\n",
        "           my_string = my_string.replace(\"h\", \"H\")  \n",
        "           print(my_string)  \n",
        "           Output: \"Hello\"  "
      ],
      "metadata": {
        "id": "GPquJZxfqbhf"
      }
    },
    {
      "cell_type": "markdown",
      "source": [
        "**3. What are the main differences between lists and tuples in Python?**\n",
        "    \n",
        "  1. Lists are mutable, which means their elements can be modified after creation. Tuples are immutable, so their elements cannot be changed once defined.\n",
        "    2. list defined using square brackets[1, 2, 3]. Tuples defined using parentheses(1, 2, 3).\n",
        "    3. Lists slightly slower due to their mutable nature.Tuples faster as they are immutable and more lightweight.\n",
        "    4. Lists require more memory because they need additional space to accommodate changes. Tuples more memory-efficient since they are fixed in size.\n",
        "    5. Lists provide a variety of methods like append(), remove(), sort(), etc. Tuples have fewer methods, mainly count() and index().\n",
        "    6. Iteration over lists is slightly slower. Tuples are faster to iterate due to their immutability."
      ],
      "metadata": {
        "id": "u5qbqGDbqxeo"
      }
    },
    {
      "cell_type": "markdown",
      "source": [
        "**4. Describe how dictionaries store data.**\n",
        "  \n",
        "  A dictionary in Python is an unordered, mutable data structure that stores data in the form of key-value pairs. Each key in a dictionary is unique, and it maps to a corresponding value.\n",
        "  1. Data is stored as unique keys mapping to corresponding values.\n",
        "  2. Internally uses a hash table for fast data access.\n",
        "  3. Keys are hashed to determine their storage location in memory.\n",
        "  4. Hash values map keys to specific buckets in the hash table.\n",
        "  5.  Resolves hash collisions using techniques like chaining or open addressing.\n",
        "  6.  Automatically resizes when the dictionary grows beyond its capacity.\n",
        "  7.  Provides average O(1) time complexity for lookup, insertion, and deletion.\n",
        "  8.  Allows adding, updating, and deleting key-value pairs dynamically.\n",
        "  9.  Keys are unordered but maintain insertion order since Python 3.7."
      ],
      "metadata": {
        "id": "xo8t185uqzWg"
      }
    },
    {
      "cell_type": "markdown",
      "source": [
        "\n",
        "**5. Why might you use a set instead of a list in Python?**\n",
        "   1. Sets automatically remove duplicates, ensuring all elements are unique, whereas lists allow duplicates.\n",
        "   2.  Sets support mathematical operations like union, intersection, difference, and symmetric difference directly, which is not natively supported by lists.\n",
        "   3. If order is not important and you just need to store unique elements, sets are a better choice.\n",
        "   4.  Sets are generally faster for checking membership and eliminating duplicates compared to lists.\n",
        "\n"
      ],
      "metadata": {
        "id": "MmwlsrXtqzkf"
      }
    },
    {
      "cell_type": "markdown",
      "source": [
        "\n",
        "**6. What is a string in Python, and how is it different from a list?**\n",
        "\n",
        "   1. A string stores a sequence of characters A list stores a sequence of\n",
        "       elements, which can be of any data type\n",
        "   2. Strings are immutable, meaning their contents cannot be changed once defined. Any operation that modifies a string creates a new string. Lists are mutable, meaning you can change, add, or remove elements from the list after its creation.\n",
        "   3. String defined using single or double quotes. List defined using square brackets with elements separated by commas.\n",
        "   4. Strings have a fixed length, and once created, their size cannot be altered. Lists are dynamic in size and can grow or shrink as elements are added or removed.\n",
        "   5. Strings are more memory-efficient since they are immutable, and Python can optimize their memory usage. Lists require more memory since they are mutable and need space to manage changes like appending or removing elements."
      ],
      "metadata": {
        "id": "J1MdgcP0qzyE"
      }
    },
    {
      "cell_type": "markdown",
      "source": [
        "\n",
        "**7. How do tuples ensure data integrity in Python?**\n",
        "  1. Tuples ensure data integrity in Python by being immutable, meaning once they are created, their contents cannot be altered, preventing accidental changes or modifications to the data, ensuring that the original data remains consistent and intact throughout the program's execution.\n",
        "   2. Using a tuple ensures that the integrity of the data is preserved and accidental modifications are avoided.\n",
        "   3. Tuples are more memory-efficient than lists due to their immutability. This efficiency contributes to the integrity of data as the structure does not need extra space to handle dynamic changes or resizing, thus making data storage more predictable and stable.\n",
        "\n"
      ],
      "metadata": {
        "id": "lL8RZHyPqz-M"
      }
    },
    {
      "cell_type": "markdown",
      "source": [
        "\n",
        "\n",
        "**8. What is a hash table, and how does it relate to dictionaries in Python?**\n",
        "\n",
        "   1.A hash table is a data structure that stores data in an associative manner, using a mechanism called hashing to map keys to values. It works by using a hash function that converts the key into an index, which determines where the corresponding value will be stored in memory.\n",
        "  \n",
        "   2.In a Python dictionary, data is stored as key-value pairs. The key is passed through a hash function, which determines where the key-value pair will be stored in memory, similar to a hash table.\n",
        "   \n",
        "   3. Since dictionaries are based on hash tables, they are dynamic: they resize and adjust the number of buckets as needed when the dictionary grows in size, to maintain fast lookups and efficient memory usage."
      ],
      "metadata": {
        "id": "FjQtyAr9q0JV"
      }
    },
    {
      "cell_type": "markdown",
      "source": [
        "**9. Can lists contain different data types in Python?**\n",
        "   1. lists in Python can contain elements of different data types. A single list can store integers, strings, floats, other lists, and even dictionaries or custom objects, all together in the same list.\n",
        "   2. Examples: my_list = [1, \"apple\", 3.14, True, [1, 2], {\"key\": \"value\"}]\n",
        "   3. Python lists are flexible and can hold elements of mixed types, making them versatile for various applications.\n"
      ],
      "metadata": {
        "id": "KZrQozgqq0T1"
      }
    },
    {
      "cell_type": "markdown",
      "source": [
        "\n",
        "**10. Explain why strings are immutable in Python.**\n",
        " 1. Immutable objects like strings allow Python to optimize memory usage by reusing string objects when identical values are encountered. This prevents the need for duplicating the same string data, improving performance.\n",
        "  2. strings cannot be changed, they are inherently thread-safe. Multiple threads can safely access and share the same string without the risk of data corruption due to unexpected modifications.\n",
        "  3.  Making strings immutable ensures that the data remains intact throughout the program’s execution, preventing accidental or malicious changes.\n",
        "  4. Strings are immutable in Python for performance reasons memory optimization, thread safety, data integrity, and consistency with other immutable types. This makes them efficient, reliable, and secure for use in applications."
      ],
      "metadata": {
        "id": "QSbFXDe-q0eL"
      }
    },
    {
      "cell_type": "markdown",
      "source": [
        "\n",
        "**11. What advantages do dictionaries offer over lists for certain tasks?**\n",
        "  1. Dictionaries provide constant time & average time complexity for lookups, meaning retrieving a value by its key is very fast, regardless of the size of the dictionary. Lists, on the other hand, require linear time  for lookups since you have to search through the list element by element.\n",
        "  2. Dictionaries store data in the form of key-value pairs, which is useful when you need to map a unique key to a value .Lists store data as ordered elements with no inherent relationship between values, which makes them less suitable for such tasks.\n",
        "  3. Dictionaries enforce uniqueness for keys, ensuring no duplicate keys can be added. Lists can contain duplicate elements, which may not be desirable in scenarios where uniqueness is required.\n",
        "\n",
        "  \n",
        "\n"
      ],
      "metadata": {
        "id": "dadPil5Gq0oZ"
      }
    },
    {
      "cell_type": "markdown",
      "source": [
        "\n",
        "**12. Describe a scenario where using a tuple would be preferable over a list.**\n",
        "   1. using a tuple is preferable because the coordinates are fixed and should not be altered after being assigned, ensuring the integrity of the data.\n",
        "   2. Tuples are more memory-efficient than lists because they are immutable. This makes them faster and less memory-intensive, especially when dealing with large datasets of coordinates.\n",
        "   3. Tuples are immutable, they are hashable and can be used as keys in a dictionary, allowing efficient storage and retrieval of location data based on coordinates.\n",
        "   4. Lists are mutable, meaning if you used a list to store coordinates, there is a risk that the values might be accidentally changed during the program execution, which would affect the integrity of your data. That's the reason using a tuple would be preferable over a list."
      ],
      "metadata": {
        "id": "sfLZl18Rq0xX"
      }
    },
    {
      "cell_type": "markdown",
      "source": [
        "**13. How do sets handle duplicate values in Python?**\n",
        "   1. sets automatically eliminate duplicate values because they only allow unique elements. When we attempt to add a duplicate value to a set, it will be ignored and the set will remain unchanged.\n",
        "   2. Sets do not maintain any specific order for the elements. The lack of order makes it easier for the set to determine whether a value is already present when adding a new element.\n",
        "   3. Sets automatically handle duplicates by ensuring that each element appears only once. If a duplicate value is added, it is simply ignored."
      ],
      "metadata": {
        "id": "9GtJsNSqq07Y"
      }
    },
    {
      "cell_type": "markdown",
      "source": [
        "\n",
        "\n",
        "**14. How does the \"in\" keyword work differently for lists and dictionaries?**\n",
        "   1. When used with a list, the in keyword checks whether the element is present in the list. It returns True if the element exists and False otherwise.\n",
        "   2. When used with a dictionary, the in keyword checks for the presence of keys in the dictionary, not the values. It returns True if the specified key exists in the dictionary, and False if it does not.\n"
      ],
      "metadata": {
        "id": "xXlpOHAuq1E3"
      }
    },
    {
      "cell_type": "markdown",
      "source": [
        "\n",
        "**15. Can you modify the elements of a tuple? Explain why or why not.**\n",
        "  \n",
        "   No, we cannot modify the elements of a tuple because tuples are immutable.\n",
        "   1. A tuple's immutability means that once it is created, its contents cannot be changed, added, or removed. This includes modifying individual elements or replacing the tuple's contents.\n",
        "   2. Immutability ensures that the data remains constant and is not accidentally modified during program execution.\n",
        "   3. When you try to modify a tuple, Python raises a TypeError because tuples, by definition, do not allow their contents to be modified once created."
      ],
      "metadata": {
        "id": "BWbSReE8q1Oz"
      }
    },
    {
      "cell_type": "markdown",
      "source": [
        "\n",
        "**16.  What is a nested dictionary, and give an example of its use case?**\n",
        "\n",
        " 1. A nested dictionary in Python is a dictionary where one or more of its values are themselves dictionaries. In other words, a nested dictionary allows you to store multiple levels of key-value pairs, where the value can be another dictionary, creating a hierarchical data structure.\n",
        "  2.  example: students = {\n",
        "        \"RAM\": {\"age\": 20, \"major\": \"Computer Science\", \"grades\": {\"Math\": 90, \"Physics\": 85}},\n",
        "        \"SHAM\": {\"age\": 22, \"major\": \"Mathematics\", \"grades\": {\"Math\": 95, \"History\": 88}},\n",
        "        \"SITA\": {\"age\": 21, \"major\": \"Physics\", \"grades\": {\"Physics\": 92, \"Math\": 80}},\n",
        "          }\n",
        "\n",
        "        print(students[\"RAM\"][\"major\"])  \n",
        "        Output: Computer Science\n",
        "        \n",
        "        print(students[\"SHAM\"][\"grades\"][\"Math\"])  \n",
        "        Output: 95\n",
        "        3. Nested dictionaries provide a natural way to represent hierarchical data, such as information about entities and their attributes.\n",
        "\n",
        "\n",
        "\n",
        "\n",
        "\n",
        "\n",
        "\n",
        "\n",
        "\n",
        "\n",
        "\n",
        "\n"
      ],
      "metadata": {
        "id": "8-jYZ9Hoq1Yu"
      }
    },
    {
      "cell_type": "markdown",
      "source": [
        "**17. Describe the time complexity of accessing elements in a dictionary.**\n",
        "   1. The time complexity of accessing elements in a dictionary is on average, meaning that dictionary lookups are very fast and take constant time regardless of the size of the dictionary.\n",
        "   2. Dictionaries in Python are implemented using a hash table. When you use a key to access a value, Python computes the hash of the key and uses it to quickly locate the value in memory.\n",
        "   3. The hash table allows Python to directly access the location in memory where the value is stored, which is why accessing an element by key is typically done in constant time."
      ],
      "metadata": {
        "id": "kl3RM9f_q1jr"
      }
    },
    {
      "cell_type": "markdown",
      "source": [
        "**18. In what situations are lists preferred over dictionaries?**\n",
        "   1. Lists maintain the order of elements. If you need to store items in a specific sequence and preserve their order, lists are a better choice.\n",
        "   2. Lists allow access to elements using an index, making them ideal for tasks that require retrieving or updating items by position.\n",
        "   3. Lists provide specific methods such as .append(), .pop(), .insert(), and .extend(), which are convenient for adding, removing, and modifying items.\n",
        "   4. Dictionaries are more useful when you need to store data with unique keys and perform fast lookups based on those keys.\n",
        "   5. Lists can store duplicate elements, whereas dictionaries only allow unique keys."
      ],
      "metadata": {
        "id": "ewxX9vbTq1tl"
      }
    },
    {
      "cell_type": "markdown",
      "source": [
        "**19. Why are dictionaries considered unordered, and how does that affect data retrieval?**\n",
        "   1. Python dictionaries are implemented using hash tables, which store key-value pairs based on the hash of the key.\n",
        "   2. Before Python 3.7, dictionaries did not guarantee that the order of elements would be preserved.\n",
        "   3. Starting from Python 3.7, dictionaries preserve insertion order as an implementation detail. This means that the order in which items are added to the dictionary is remembered when iterating over them.\n",
        "   4. The unordered nature of dictionaries does not affect data retrieval efficiency. Retrieving a value using a key remains an operation on average, due to the hash table structure."
      ],
      "metadata": {
        "id": "B9cK9Imeq14T"
      }
    },
    {
      "cell_type": "markdown",
      "source": [
        "**20.  Explain the difference between a list and a dictionary in terms of data retrieval.**\n",
        "  1. Lists provide data retrieval based on index, making them efficient for accessing elements by position. They maintain the order of elements and allow duplicate items.\n",
        "  2. Dictionaries provide data retrieval based on key, allowing for efficient direct lookups using unique keys. They are faster for retrieving values by their associated keys, thanks to the underlying hash table structure."
      ],
      "metadata": {
        "id": "DGrN-0fctGur"
      }
    },
    {
      "cell_type": "markdown",
      "source": [
        "**PRACTICAL QUESTIONS**"
      ],
      "metadata": {
        "id": "bM3D9np02VQu"
      }
    },
    {
      "cell_type": "code",
      "execution_count": null,
      "metadata": {
        "colab": {
          "base_uri": "https://localhost:8080/"
        },
        "id": "3lts5SMm089U",
        "outputId": "e5d31478-bb55-4b51-f96d-5a140263a468"
      },
      "outputs": [
        {
          "output_type": "stream",
          "name": "stdout",
          "text": [
            "My Name Is Tanmay Pradiprao Talokar.\n"
          ]
        }
      ],
      "source": [
        "#1. Write a code to create a string with your name and print it.\n",
        "my_name = \"Tanmay Pradiprao Talokar\"\n",
        "print(f\"My Name Is {my_name}.\")"
      ]
    },
    {
      "cell_type": "code",
      "source": [
        "#2.  Write code to find the length of the string \"Hello World\".\n",
        "a = len(\"Hello World\")\n",
        "print(f\"length of the string 'Hello World' is {a}.\")"
      ],
      "metadata": {
        "colab": {
          "base_uri": "https://localhost:8080/"
        },
        "id": "o9P9vEXP1l2q",
        "outputId": "ca880578-088a-43e1-acc4-2fecec7e218f"
      },
      "execution_count": null,
      "outputs": [
        {
          "output_type": "stream",
          "name": "stdout",
          "text": [
            "length of the string 'Hello World' is 11.\n"
          ]
        }
      ]
    },
    {
      "cell_type": "code",
      "source": [
        "#3. Write a code to slice the first 3 characters from the string \"Python Programming\".\n",
        "string1 = \"Python Programming\"\n",
        "a = string1[:3]\n",
        "print(a)\n"
      ],
      "metadata": {
        "colab": {
          "base_uri": "https://localhost:8080/"
        },
        "id": "5Z5GdMxz1mCG",
        "outputId": "957c7662-eb63-4b09-c2f4-aa848bccb77b"
      },
      "execution_count": null,
      "outputs": [
        {
          "output_type": "stream",
          "name": "stdout",
          "text": [
            "Pyt\n"
          ]
        }
      ]
    },
    {
      "cell_type": "code",
      "source": [
        "#4. Write a code to convert the string \"hello\" to uppercase.\n",
        "a = \"hello\"\n",
        "print(\"Before convert the string 'hello' to uppercase:\",a)\n",
        "b = a.upper()\n",
        "print(\"After convert the string 'hello' to uppercase:\",b)"
      ],
      "metadata": {
        "colab": {
          "base_uri": "https://localhost:8080/"
        },
        "id": "Ng_lyHHa1mNB",
        "outputId": "8aab6f5f-4d53-4828-f17f-4ac0526cbfd5"
      },
      "execution_count": null,
      "outputs": [
        {
          "output_type": "stream",
          "name": "stdout",
          "text": [
            "Before convert the string 'hello' to uppercase: hello\n",
            "After convert the string 'hello' to uppercase: HELLO\n"
          ]
        }
      ]
    },
    {
      "cell_type": "code",
      "source": [
        "#5.  Write a code to replace the word \"apple\" with \"orange\" in the string \"I like apple\"\n",
        "a = \"I Like Apple\"\n",
        "print(\" Before replace the word 'apple' with 'orange':\",a)\n",
        "b = a.replace(\"Apple\",\"orange\")\n",
        "print(\"After replace the word 'apple' with 'orange':\",b)"
      ],
      "metadata": {
        "colab": {
          "base_uri": "https://localhost:8080/"
        },
        "id": "Yi_jt5js1mXL",
        "outputId": "c8b7a840-c7f2-418d-ef62-bb24beac8bf1"
      },
      "execution_count": 4,
      "outputs": [
        {
          "output_type": "stream",
          "name": "stdout",
          "text": [
            " Before replace the word 'apple' with 'orange': I Like Apple\n",
            "After replace the word 'apple' with 'orange': I Like orange\n"
          ]
        }
      ]
    },
    {
      "cell_type": "code",
      "source": [
        "#6. Write a code to create a list with numbers 1 to 5 and print it.\n",
        "list1 = [1,2,3,4,5]\n",
        "print(list1)"
      ],
      "metadata": {
        "colab": {
          "base_uri": "https://localhost:8080/"
        },
        "id": "K_X5hXXo1mkU",
        "outputId": "925c83eb-eb84-4da6-b093-b6b4750a4c90"
      },
      "execution_count": null,
      "outputs": [
        {
          "output_type": "stream",
          "name": "stdout",
          "text": [
            "[1, 2, 3, 4, 5]\n"
          ]
        }
      ]
    },
    {
      "cell_type": "code",
      "source": [
        "#7. Write a code to append the number 10 to the list [1, 2, 3, 4].\n",
        "list1 = [1,2,3,4]\n",
        "print(\"Before append the number 10 to the list:\",list1)\n",
        "list1.append(10)\n",
        "print(\"After append the number 10 to the list:\",list1)"
      ],
      "metadata": {
        "colab": {
          "base_uri": "https://localhost:8080/"
        },
        "id": "BSv8XJiE2Acp",
        "outputId": "a8000a9c-4f60-4561-8492-65f8f02e6b35"
      },
      "execution_count": null,
      "outputs": [
        {
          "output_type": "stream",
          "name": "stdout",
          "text": [
            "Before append the number 10 to the list: [1, 2, 3, 4]\n",
            "After append the number 10 to the list: [1, 2, 3, 4, 10]\n"
          ]
        }
      ]
    },
    {
      "cell_type": "code",
      "source": [
        "#8. Write a code to remove the number 3 from the list [1, 2, 3, 4, 5]\n",
        "list1 = [1, 2, 3, 4, 5]\n",
        "print(\"Before remove the number 3 from the list\",list1)\n",
        "list1.remove(3)\n",
        "print(\"After remove the number 3 from the list\",list1)"
      ],
      "metadata": {
        "colab": {
          "base_uri": "https://localhost:8080/"
        },
        "id": "ZS-Xl3Wx2Ajt",
        "outputId": "8f8b1e55-2362-4329-eaf1-e4b4208914ca"
      },
      "execution_count": null,
      "outputs": [
        {
          "output_type": "stream",
          "name": "stdout",
          "text": [
            "Before remove the number 3 from the list [1, 2, 3, 4, 5]\n",
            "After remove the number 3 from the list [1, 2, 4, 5]\n"
          ]
        }
      ]
    },
    {
      "cell_type": "code",
      "source": [
        "#9.  Write a code to access the second element in the list ['a', 'b', 'c', 'd'].\n",
        "list1 = ['a', 'b', 'c', 'd']\n",
        "print(\"The second element in the list is:\", list1[1])"
      ],
      "metadata": {
        "colab": {
          "base_uri": "https://localhost:8080/"
        },
        "id": "cvH3TZ4t2Amv",
        "outputId": "00b3fc55-65de-479e-b361-d4c9586aea12"
      },
      "execution_count": 6,
      "outputs": [
        {
          "output_type": "stream",
          "name": "stdout",
          "text": [
            "The second element in the list is: b\n"
          ]
        }
      ]
    },
    {
      "cell_type": "code",
      "source": [
        "#10. Write a code to reverse the list [10, 20, 30, 40, 50].\n",
        "list1 =  [10, 20, 30, 40, 50]\n",
        "print(\" Before reverse the list:\",list1)\n",
        "list1.reverse()\n",
        "print(\"After reverse the list:\",list1)"
      ],
      "metadata": {
        "colab": {
          "base_uri": "https://localhost:8080/"
        },
        "id": "4rVZ2PXW2Apm",
        "outputId": "7bf5c59e-8a28-4ea0-8f43-564d25fd155f"
      },
      "execution_count": null,
      "outputs": [
        {
          "output_type": "stream",
          "name": "stdout",
          "text": [
            " Before reverse the list: [10, 20, 30, 40, 50]\n",
            "After reverse the list: [50, 40, 30, 20, 10]\n"
          ]
        }
      ]
    },
    {
      "cell_type": "code",
      "source": [
        "#11. Write a code to create a tuple with the elements 10, 20, 30 and print it.\n",
        "tuple1 = (10,20,30)\n",
        "print(tuple1)"
      ],
      "metadata": {
        "colab": {
          "base_uri": "https://localhost:8080/"
        },
        "id": "Oga6oa2S2Asu",
        "outputId": "5de91fba-f430-49dd-da27-cc5e0c1f0d55"
      },
      "execution_count": null,
      "outputs": [
        {
          "output_type": "stream",
          "name": "stdout",
          "text": [
            "(10, 20, 30)\n"
          ]
        }
      ]
    },
    {
      "cell_type": "code",
      "source": [
        "#12.  Write a code to access the first element of the tuple ('apple', 'banana', 'cherry').\n",
        "tuple1 = ('apple', 'banana', 'cherry')\n",
        "print(tuple1[0],\"is the first element of the tuple1.\")"
      ],
      "metadata": {
        "colab": {
          "base_uri": "https://localhost:8080/"
        },
        "id": "rflu4aqJ2Av4",
        "outputId": "0901b6c0-dd75-429e-8837-c2a38a4c814e"
      },
      "execution_count": null,
      "outputs": [
        {
          "output_type": "stream",
          "name": "stdout",
          "text": [
            "apple is the first element of the tuple1.\n"
          ]
        }
      ]
    },
    {
      "cell_type": "code",
      "source": [
        "#13. Write a code to count how many times the number 2 appears in the tuple (1, 2, 3, 2, 4, 2).\n",
        "# 1st method\n",
        "tuple1=(1,2,3,2,4,2)\n",
        "count=0\n",
        "for i in tuple1:\n",
        "    if i==2:\n",
        "        count+=1\n",
        "print(count,\"time the number 2 appears in the tuple1\")\n",
        "\n",
        "# 2nd mwthod\n",
        "tuple2=(1,2,3,2,4,2)\n",
        "a = tuple2.count(2)\n",
        "print (a,\"time the number 2 appears in the tuple2\")\n",
        "\n"
      ],
      "metadata": {
        "colab": {
          "base_uri": "https://localhost:8080/"
        },
        "id": "SDSLXrrg2AzJ",
        "outputId": "a5f375c1-cb80-4125-d6ab-4131f7527716"
      },
      "execution_count": null,
      "outputs": [
        {
          "output_type": "stream",
          "name": "stdout",
          "text": [
            "3 time the number 2 appears in the tuple1\n",
            "3 time the number 2 appears in the tuple2\n"
          ]
        }
      ]
    },
    {
      "cell_type": "code",
      "source": [
        "#14. Write a code to find the index of the element \"cat\" in the tuple ('dog', 'cat', 'rabbit').\n",
        "tuple1 = ('dog', 'cat', 'rabbit')\n",
        "a = tuple1.index('cat')\n",
        "print(\"The index of the element 'cat' in the tuple1 is:\",a)\n",
        "\n"
      ],
      "metadata": {
        "id": "Ue7Yt5Pv2A2E",
        "colab": {
          "base_uri": "https://localhost:8080/"
        },
        "outputId": "c250832a-d411-4aad-854b-bdbaf4b4d30e"
      },
      "execution_count": null,
      "outputs": [
        {
          "output_type": "stream",
          "name": "stdout",
          "text": [
            "the index of the element 'cat' in the tuple1 is: 1\n"
          ]
        }
      ]
    },
    {
      "cell_type": "code",
      "source": [
        "#15. Write a code to check if the element \"banana\" is in the tuple ('apple', 'orange', 'banana').\n",
        "fruits = ('apple', 'orange', 'banana')\n",
        "if 'banana' in fruits:\n",
        "  print('The element banana is in the tuple.')\n",
        "else:\n",
        "  print(\"The element banana is not in the tuple\")"
      ],
      "metadata": {
        "id": "eWX5LBke2A5E",
        "colab": {
          "base_uri": "https://localhost:8080/"
        },
        "outputId": "fc9a24a2-003c-4dd7-b29e-410c5764b203"
      },
      "execution_count": null,
      "outputs": [
        {
          "output_type": "stream",
          "name": "stdout",
          "text": [
            "The element banana is in the tuple.\n"
          ]
        }
      ]
    },
    {
      "cell_type": "code",
      "source": [
        "#16. Write a code to create a set with the elements 1, 2, 3, 4, 5 and print it.\n",
        "number = {1, 2, 3, 4, 5}\n",
        "print (number)\n"
      ],
      "metadata": {
        "id": "U0gbLEz32A72",
        "colab": {
          "base_uri": "https://localhost:8080/"
        },
        "outputId": "84654912-4f20-4517-8cb8-789c078dbe36"
      },
      "execution_count": null,
      "outputs": [
        {
          "output_type": "stream",
          "name": "stdout",
          "text": [
            "{1, 2, 3, 4, 5}\n"
          ]
        }
      ]
    },
    {
      "cell_type": "code",
      "source": [
        "#17. Write a code to add the element 6 to the set {1, 2, 3, 4}.\n",
        "num = {1, 2, 3, 4}\n",
        "print(\"before adding element 6 to the set:\",num)\n",
        "num.add(6)\n",
        "print(f\"after adding element 6 to the set: {num}\")\n",
        "\n"
      ],
      "metadata": {
        "id": "oH-Aa01y2A_b",
        "colab": {
          "base_uri": "https://localhost:8080/"
        },
        "outputId": "0ee45669-8bd3-4b0a-b6cf-629c0551f6a3"
      },
      "execution_count": null,
      "outputs": [
        {
          "output_type": "stream",
          "name": "stdout",
          "text": [
            "before adding element 6 to the set: {1, 2, 3, 4}\n",
            "after adding element 6 to the set: {1, 2, 3, 4, 6}\n"
          ]
        }
      ]
    },
    {
      "cell_type": "code",
      "source": [
        "#18. Write a code to create a tuple with the elements 10, 20, 30 and print it.\n",
        "num = (10, 20, 30)\n",
        "print(num)"
      ],
      "metadata": {
        "id": "zsch9D3-35CB",
        "colab": {
          "base_uri": "https://localhost:8080/"
        },
        "outputId": "35886dd6-07a6-45c1-a0ec-6c1102a49d0b"
      },
      "execution_count": null,
      "outputs": [
        {
          "output_type": "stream",
          "name": "stdout",
          "text": [
            "(10, 20, 30)\n"
          ]
        }
      ]
    },
    {
      "cell_type": "code",
      "source": [
        "#19. Write a code to access the first element of the tuple ('apple', 'banana', 'cherry').\n",
        "fruits =  ('apple', 'banana', 'cherry')\n",
        "a = fruits[0]\n",
        "print(\"The first element of the fruits is:\",a)"
      ],
      "metadata": {
        "id": "mEbKFQM035W8",
        "colab": {
          "base_uri": "https://localhost:8080/"
        },
        "outputId": "1ff9b11e-7b72-4b42-968d-c90747f2f56f"
      },
      "execution_count": null,
      "outputs": [
        {
          "output_type": "stream",
          "name": "stdout",
          "text": [
            "The first element of the fruits is: apple\n"
          ]
        }
      ]
    },
    {
      "cell_type": "code",
      "source": [
        "#20. Write a code to count how many times the number 2 appears in the tuple (1, 2, 3, 2, 4, 2).\n",
        "tuple1 = (1, 2, 3, 2, 4, 2)\n",
        "count = 0\n",
        "for i in tuple1:\n",
        "    if i==2:\n",
        "        count+=1\n",
        "print (count,\"time the number 2 appear in the tuple1.\")\n"
      ],
      "metadata": {
        "id": "IhxDQ5KK35ik",
        "colab": {
          "base_uri": "https://localhost:8080/"
        },
        "outputId": "c0816715-17a8-4583-f478-b53f9b731c0c"
      },
      "execution_count": null,
      "outputs": [
        {
          "output_type": "stream",
          "name": "stdout",
          "text": [
            "3 time the number 2 appear in the tuple1.\n"
          ]
        }
      ]
    },
    {
      "cell_type": "code",
      "source": [
        "#21. Write a code to find the index of the element \"cat\" in the tuple ('dog', 'cat', 'rabbit').\n",
        "tuple1 = ('dog', 'cat', 'rabbit')\n",
        "a = tuple1.index(\"cat\")\n",
        "print(\"index of the element 'cat' in the tuple1 is:\",a)\n"
      ],
      "metadata": {
        "id": "dj4QpCmI8YgZ",
        "colab": {
          "base_uri": "https://localhost:8080/"
        },
        "outputId": "4ba66b67-eaf8-4226-e1cc-4f4b9b5268c2"
      },
      "execution_count": null,
      "outputs": [
        {
          "output_type": "stream",
          "name": "stdout",
          "text": [
            "index of the element 'cat' in the tuple1 is: 1\n"
          ]
        }
      ]
    },
    {
      "cell_type": "code",
      "source": [
        "#22. Write a code to check if the element \"banana\" is in the tuple ('apple', 'orange', 'banana').\n",
        "fruits = ('apple', 'orange', 'banana')\n",
        "if \"banana\" in fruits:\n",
        "  print(\"yess!!, banana is in the Tuple.\")\n",
        "else:\n",
        "  print(\"banana is not in the tuple\")"
      ],
      "metadata": {
        "id": "ZoMANbXP8YsH",
        "colab": {
          "base_uri": "https://localhost:8080/"
        },
        "outputId": "5355c419-5273-4c9f-c571-0e3290e5b547"
      },
      "execution_count": null,
      "outputs": [
        {
          "output_type": "stream",
          "name": "stdout",
          "text": [
            "yess!!, banana is in the Tuple.\n"
          ]
        }
      ]
    },
    {
      "cell_type": "code",
      "source": [
        "#23. Write a code to create a set with the elements 1, 2, 3, 4, 5 and print it.\n",
        "num = {1, 2, 3, 4, 5}\n",
        "print(num)"
      ],
      "metadata": {
        "id": "Y_DlSN2M8Y5p",
        "colab": {
          "base_uri": "https://localhost:8080/"
        },
        "outputId": "e6b2927f-413b-4cdf-f9fc-47d13d85b4cf"
      },
      "execution_count": null,
      "outputs": [
        {
          "output_type": "stream",
          "name": "stdout",
          "text": [
            "{1, 2, 3, 4, 5}\n"
          ]
        }
      ]
    },
    {
      "cell_type": "code",
      "source": [
        "#24. Write a code to add the element 6 to the set {1, 2, 3, 4}.\n",
        "num = {1, 2, 3, 4}\n",
        "print(\"before adding element 6 to the set:\",num)\n",
        "num.add(6)\n",
        "print(f\"after adding element 6 to the set: {num}\")\n"
      ],
      "metadata": {
        "id": "PrCVP0ld8ZFp",
        "colab": {
          "base_uri": "https://localhost:8080/"
        },
        "outputId": "4d169a55-47e5-42cb-d9b9-522b68e2c95e"
      },
      "execution_count": null,
      "outputs": [
        {
          "output_type": "stream",
          "name": "stdout",
          "text": [
            "before adding element 6 to the set: {1, 2, 3, 4}\n",
            "after adding element 6 to the set: {1, 2, 3, 4, 6}\n"
          ]
        }
      ]
    },
    {
      "cell_type": "code",
      "source": [],
      "metadata": {
        "id": "E97ORw5MXdy4"
      },
      "execution_count": null,
      "outputs": []
    }
  ]
}